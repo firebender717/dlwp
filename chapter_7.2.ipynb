{
 "cells": [
  {
   "cell_type": "code",
   "execution_count": 1,
   "metadata": {},
   "outputs": [
    {
     "name": "stderr",
     "output_type": "stream",
     "text": [
      "2023-11-13 18:59:02.275009: E tensorflow/compiler/xla/stream_executor/cuda/cuda_dnn.cc:9342] Unable to register cuDNN factory: Attempting to register factory for plugin cuDNN when one has already been registered\n",
      "2023-11-13 18:59:02.275046: E tensorflow/compiler/xla/stream_executor/cuda/cuda_fft.cc:609] Unable to register cuFFT factory: Attempting to register factory for plugin cuFFT when one has already been registered\n",
      "2023-11-13 18:59:02.275075: E tensorflow/compiler/xla/stream_executor/cuda/cuda_blas.cc:1518] Unable to register cuBLAS factory: Attempting to register factory for plugin cuBLAS when one has already been registered\n",
      "2023-11-13 18:59:02.281965: I tensorflow/core/platform/cpu_feature_guard.cc:182] This TensorFlow binary is optimized to use available CPU instructions in performance-critical operations.\n",
      "To enable the following instructions: AVX2 FMA, in other operations, rebuild TensorFlow with the appropriate compiler flags.\n",
      "2023-11-13 18:59:03.330157: W tensorflow/compiler/tf2tensorrt/utils/py_utils.cc:38] TF-TRT Warning: Could not find TensorRT\n"
     ]
    }
   ],
   "source": [
    "from tensorflow import keras"
   ]
  },
  {
   "cell_type": "code",
   "execution_count": 2,
   "metadata": {},
   "outputs": [
    {
     "name": "stderr",
     "output_type": "stream",
     "text": [
      "2023-11-13 18:59:05.232053: E tensorflow/compiler/xla/stream_executor/cuda/cuda_driver.cc:268] failed call to cuInit: CUDA_ERROR_NO_DEVICE: no CUDA-capable device is detected\n"
     ]
    }
   ],
   "source": [
    "model = keras.Sequential()\n",
    "model.add(keras.layers.Dense(64, activation=keras.activations.relu))\n",
    "model.add(keras.layers.Dense(10, activation=keras.activations.softmax))"
   ]
  },
  {
   "cell_type": "code",
   "execution_count": 3,
   "metadata": {},
   "outputs": [
    {
     "data": {
      "text/plain": [
       "[<tf.Variable 'dense/kernel:0' shape=(3, 64) dtype=float32, numpy=\n",
       " array([[ 0.09126735, -0.23459277, -0.1341478 ,  0.13791394, -0.07695684,\n",
       "         -0.16673273, -0.04049459, -0.11050825, -0.052064  ,  0.06277105,\n",
       "          0.23420674,  0.07454452,  0.24323851,  0.06977102,  0.2023772 ,\n",
       "         -0.25250497, -0.29689515,  0.05550602, -0.15676692, -0.19690984,\n",
       "         -0.11737958,  0.2628227 ,  0.04000643,  0.04681611, -0.07239559,\n",
       "          0.02235222, -0.0418691 ,  0.16390988,  0.00271371,  0.29138917,\n",
       "         -0.14751188,  0.14159688,  0.07466143,  0.1457322 ,  0.11729932,\n",
       "          0.22483814,  0.23142481, -0.02017784, -0.23569031,  0.23062515,\n",
       "         -0.10165581,  0.2580766 ,  0.14526045, -0.02692795, -0.15397967,\n",
       "          0.01561972, -0.07780673, -0.21573749,  0.11333895,  0.29004055,\n",
       "         -0.20372772, -0.17435777, -0.04166961, -0.05846986, -0.12184685,\n",
       "          0.21875483,  0.2593627 , -0.2203623 , -0.01738358, -0.2238794 ,\n",
       "         -0.03341264,  0.15822533, -0.16918837, -0.15037206],\n",
       "        [ 0.17976913, -0.07709539, -0.2959998 ,  0.28744358, -0.24554789,\n",
       "          0.20210928,  0.11897007, -0.22836593, -0.2439425 , -0.14791892,\n",
       "         -0.10346825, -0.16255498, -0.02092683, -0.17942223, -0.19449694,\n",
       "          0.20706713,  0.01089355,  0.23301691,  0.14662683, -0.10081948,\n",
       "         -0.14867999, -0.05670594, -0.1656882 ,  0.20639718,  0.24843508,\n",
       "          0.14776766,  0.03341857, -0.08889839,  0.10798848,  0.12898174,\n",
       "         -0.07121623,  0.24469876, -0.27916664, -0.15722898, -0.08294332,\n",
       "          0.21891534, -0.09285754, -0.04574192, -0.27689824, -0.29276276,\n",
       "         -0.03998902, -0.02556613, -0.2579477 , -0.0855253 ,  0.22361612,\n",
       "         -0.22451702,  0.25980854,  0.19854707, -0.11270775,  0.1753796 ,\n",
       "          0.17255953, -0.03682363, -0.26315057,  0.14315554,  0.19363207,\n",
       "         -0.19497854,  0.0999203 ,  0.03291351, -0.02865192,  0.02279237,\n",
       "         -0.11935854, -0.16887337, -0.19408228,  0.0785473 ],\n",
       "        [-0.24646163,  0.01556465,  0.1498478 ,  0.17627025,  0.08712122,\n",
       "          0.2044608 ,  0.22720242, -0.22638561,  0.0986717 ,  0.00469986,\n",
       "          0.23532659,  0.2549141 ,  0.14505887,  0.14433905, -0.14449182,\n",
       "          0.23951888, -0.1399736 ,  0.24013424, -0.06229687, -0.06615277,\n",
       "         -0.20613328, -0.0980358 ,  0.24066246, -0.14699939,  0.04687497,\n",
       "         -0.19437802,  0.1771914 , -0.1347546 ,  0.2234546 , -0.02326104,\n",
       "          0.14346805,  0.21134561,  0.08724919,  0.19472718, -0.03488526,\n",
       "         -0.2573167 , -0.13190812, -0.16502346,  0.11533582,  0.02285588,\n",
       "         -0.05677022, -0.11681615, -0.28297818,  0.20509613,  0.07422522,\n",
       "          0.07881629, -0.11090052,  0.20208925, -0.04584271, -0.23283884,\n",
       "         -0.08544339,  0.2455675 ,  0.25387722, -0.00161189, -0.27914047,\n",
       "          0.25989228, -0.2842532 ,  0.01964602,  0.18169907,  0.11007568,\n",
       "         -0.01175585, -0.07764798,  0.15599746,  0.01890534]],\n",
       "       dtype=float32)>,\n",
       " <tf.Variable 'dense/bias:0' shape=(64,) dtype=float32, numpy=\n",
       " array([0., 0., 0., 0., 0., 0., 0., 0., 0., 0., 0., 0., 0., 0., 0., 0., 0.,\n",
       "        0., 0., 0., 0., 0., 0., 0., 0., 0., 0., 0., 0., 0., 0., 0., 0., 0.,\n",
       "        0., 0., 0., 0., 0., 0., 0., 0., 0., 0., 0., 0., 0., 0., 0., 0., 0.,\n",
       "        0., 0., 0., 0., 0., 0., 0., 0., 0., 0., 0., 0., 0.], dtype=float32)>,\n",
       " <tf.Variable 'dense_1/kernel:0' shape=(64, 10) dtype=float32, numpy=\n",
       " array([[ 0.04438099, -0.07367559, -0.0546993 ,  0.04600734,  0.1526798 ,\n",
       "          0.24180862, -0.13242619,  0.23007324, -0.05911733, -0.04971604],\n",
       "        [-0.25923502, -0.22361091, -0.26204672, -0.02071017,  0.21853718,\n",
       "          0.2249473 , -0.13003099, -0.05407989,  0.10594001, -0.14992106],\n",
       "        [ 0.22762808,  0.02729386,  0.17320043, -0.11999162,  0.20184371,\n",
       "          0.18329588,  0.2706546 ,  0.04059467,  0.18072769,  0.12057263],\n",
       "        [-0.00948784, -0.14998135, -0.06330167, -0.12939398, -0.26874486,\n",
       "         -0.04749975,  0.20544136,  0.03042144, -0.06895214, -0.26775151],\n",
       "        [ 0.11115694, -0.18282709,  0.17949605,  0.00076926,  0.08780283,\n",
       "          0.00412434, -0.09080292,  0.26899323,  0.10943079,  0.16154474],\n",
       "        [-0.03832576, -0.0511426 , -0.23488396,  0.20638013, -0.14948963,\n",
       "         -0.15884121, -0.01212838,  0.18812734,  0.26556465, -0.02791369],\n",
       "        [-0.0124402 , -0.22071524,  0.23801902,  0.02365223, -0.10559894,\n",
       "          0.21089378,  0.00707641,  0.13292626,  0.04902914, -0.06330615],\n",
       "        [-0.17948696, -0.0899983 ,  0.18644273, -0.21913621, -0.23679326,\n",
       "         -0.11880064, -0.1529667 , -0.23001155, -0.05005801, -0.18078764],\n",
       "        [ 0.19693899, -0.05794488,  0.0552482 ,  0.02127475,  0.09677905,\n",
       "         -0.18602142,  0.13885114,  0.0712432 ,  0.17336479, -0.20867015],\n",
       "        [-0.01250753,  0.1236926 ,  0.22799966,  0.05291757, -0.04075584,\n",
       "          0.2105914 ,  0.01192138,  0.13611588,  0.182729  , -0.01839876],\n",
       "        [ 0.09717247,  0.17662671, -0.26757452, -0.05868359,  0.18024004,\n",
       "         -0.03252986,  0.00954643,  0.13220596,  0.13203067,  0.22049204],\n",
       "        [-0.17952938, -0.02264318, -0.15971982,  0.20556965,  0.07222441,\n",
       "          0.15674329, -0.17555237, -0.07871465,  0.16269296, -0.11240834],\n",
       "        [ 0.24506757, -0.00157651,  0.21677426,  0.26740626,  0.2338185 ,\n",
       "          0.13177803,  0.21888134, -0.06214273, -0.02052978,  0.27977684],\n",
       "        [ 0.2765238 ,  0.189253  , -0.12144682, -0.15817888, -0.23827155,\n",
       "         -0.18056211,  0.20969093,  0.26331493,  0.19411826, -0.22101551],\n",
       "        [-0.27308995,  0.00371712,  0.27006283, -0.00969863,  0.20445377,\n",
       "         -0.0635179 , -0.01708496, -0.04067676,  0.05764005,  0.27066103],\n",
       "        [ 0.28141353, -0.19924057, -0.08472577,  0.01847947,  0.18616444,\n",
       "         -0.13907354,  0.12294391,  0.06968316,  0.18050095, -0.24304286],\n",
       "        [-0.22426936,  0.07481897, -0.24345401, -0.20282097, -0.27920452,\n",
       "          0.08289921, -0.04859316,  0.0552482 ,  0.10333347, -0.03884959],\n",
       "        [ 0.2154505 , -0.04885942,  0.18732259,  0.26362357,  0.06543773,\n",
       "          0.04734087, -0.00608578, -0.15936355, -0.03869188,  0.06073967],\n",
       "        [-0.07992247, -0.23917252, -0.18004276,  0.22363934,  0.00158787,\n",
       "          0.26565418, -0.2711964 ,  0.24998066,  0.04391968, -0.28146842],\n",
       "        [-0.04370324,  0.25849375,  0.24679121, -0.18472758,  0.23417553,\n",
       "          0.17620817,  0.21442485,  0.08156118,  0.06311253,  0.26713017],\n",
       "        [ 0.23346141,  0.03066495,  0.27904359,  0.16699421,  0.14546326,\n",
       "         -0.23797488, -0.27847445,  0.10149258, -0.11554638, -0.06868941],\n",
       "        [ 0.13406196,  0.09599346,  0.18993393, -0.02000982, -0.00519529,\n",
       "         -0.04757869, -0.16209236,  0.06161925, -0.19903705,  0.20325187],\n",
       "        [ 0.16694874,  0.19529018, -0.02553192, -0.1435703 , -0.0265142 ,\n",
       "         -0.12973927, -0.2591509 , -0.25674015, -0.05534948,  0.20341867],\n",
       "        [-0.23321444,  0.20360327,  0.22034726,  0.24884924, -0.02892971,\n",
       "          0.26081875,  0.26837203, -0.18287876,  0.21911272, -0.16319078],\n",
       "        [ 0.18379411,  0.09588   , -0.2595298 ,  0.19537896, -0.2667117 ,\n",
       "          0.09521863, -0.17008696,  0.23012617, -0.24615619,  0.21574399],\n",
       "        [-0.09461001, -0.2529434 ,  0.06080857, -0.12817124, -0.05118944,\n",
       "          0.0534232 ,  0.05753437, -0.21289977, -0.25141618,  0.09159151],\n",
       "        [ 0.25593588,  0.04442737, -0.01009068,  0.02316484,  0.19979814,\n",
       "          0.12513563,  0.0518783 , -0.23276031,  0.11239788, -0.20310284],\n",
       "        [ 0.03303999, -0.08459432, -0.25603452, -0.16626921, -0.10528719,\n",
       "          0.23895112,  0.24150631,  0.15254578,  0.07264084, -0.21202692],\n",
       "        [-0.1744322 , -0.09016198,  0.09902957, -0.18917146, -0.13021076,\n",
       "         -0.03276068,  0.23637882, -0.20837158,  0.11839873,  0.02112979],\n",
       "        [ 0.05101049, -0.1776644 ,  0.24085543, -0.06758459, -0.17137271,\n",
       "         -0.22966681, -0.15191211,  0.08032236,  0.11865589,  0.27312735],\n",
       "        [ 0.10691774, -0.26365262,  0.20510307,  0.10261589,  0.0537608 ,\n",
       "         -0.23474553, -0.20503083, -0.15522516,  0.22438058, -0.08991805],\n",
       "        [ 0.2701579 ,  0.0699628 ,  0.02155459,  0.17498311, -0.15729918,\n",
       "          0.00696638, -0.0986384 , -0.11619771,  0.2347261 ,  0.05729246],\n",
       "        [ 0.03644916,  0.25210884, -0.07215895,  0.23982832,  0.02583832,\n",
       "         -0.03414622, -0.17466201, -0.08462976, -0.15559903, -0.03257194],\n",
       "        [ 0.25040773,  0.23875323,  0.15619177,  0.03167975,  0.05515105,\n",
       "         -0.23375   , -0.01082322, -0.22436652, -0.19860384, -0.09677912],\n",
       "        [-0.20881626,  0.00585747,  0.22722968,  0.1796279 , -0.19036868,\n",
       "          0.27604267, -0.08578423,  0.22765675,  0.0858101 ,  0.12203678],\n",
       "        [-0.12876737, -0.03661522,  0.22269562,  0.14918622,  0.08070287,\n",
       "         -0.16681886, -0.22802967, -0.08449894, -0.13358444, -0.24592672],\n",
       "        [-0.05282794,  0.19905713,  0.25453505,  0.16326228,  0.08316484,\n",
       "          0.05606592,  0.01660982,  0.06431499,  0.01111916, -0.00106254],\n",
       "        [-0.22680055,  0.20760131, -0.16044746,  0.07027265,  0.20605725,\n",
       "          0.259185  ,  0.20881158, -0.08784947, -0.22263758,  0.10135737],\n",
       "        [ 0.05810151,  0.22721258, -0.00316066,  0.0630219 , -0.16514899,\n",
       "          0.27828172,  0.2028471 ,  0.21568152,  0.18485051,  0.06961882],\n",
       "        [ 0.20563823,  0.06055602, -0.10699806,  0.22392395, -0.17429921,\n",
       "          0.10047156,  0.08102322,  0.06692791,  0.10823962, -0.20511454],\n",
       "        [ 0.01149091,  0.11259055,  0.06126457, -0.01503193, -0.2205189 ,\n",
       "         -0.28133088,  0.14565206,  0.02730364,  0.08297816,  0.18889678],\n",
       "        [-0.28071126, -0.25470212,  0.1162301 ,  0.26987514, -0.06379753,\n",
       "         -0.20249143,  0.10972178,  0.27175143,  0.22529009, -0.2319411 ],\n",
       "        [ 0.02950615, -0.09332453, -0.15488592, -0.06897645, -0.02277616,\n",
       "          0.18598747, -0.19784817,  0.23344776,  0.12439546,  0.26225284],\n",
       "        [-0.21215667, -0.17033625,  0.28130224, -0.09671564, -0.13411899,\n",
       "         -0.22719118, -0.26999658,  0.08191592, -0.19693077, -0.20848617],\n",
       "        [-0.2323136 , -0.10291766, -0.1301187 ,  0.26210883, -0.16130048,\n",
       "          0.11637312,  0.02832636,  0.15842777,  0.22030362, -0.05357358],\n",
       "        [-0.031331  ,  0.23788986, -0.00846326, -0.06500065,  0.07641485,\n",
       "          0.08387762,  0.20595637,  0.14596325,  0.1813983 , -0.09485915],\n",
       "        [ 0.15571615, -0.1688349 ,  0.2747077 ,  0.11457536, -0.11298724,\n",
       "          0.08787677,  0.11786351,  0.10701984, -0.19616011, -0.10597701],\n",
       "        [-0.24643032,  0.16274142,  0.18295702,  0.22001705,  0.01857424,\n",
       "         -0.12120853, -0.1196826 ,  0.15542346, -0.03119829,  0.15773264],\n",
       "        [ 0.02951226,  0.16611058, -0.20815122,  0.00801843, -0.08745416,\n",
       "          0.01757845,  0.26130745,  0.07559609, -0.21770877,  0.18903181],\n",
       "        [ 0.22482917, -0.03591569,  0.15089479,  0.05272803,  0.15085506,\n",
       "          0.19792339, -0.06117994, -0.25813568,  0.24732366, -0.13373244],\n",
       "        [-0.00527099, -0.1755768 ,  0.02259612, -0.09657954,  0.05510727,\n",
       "         -0.10110441, -0.18470463, -0.19208275, -0.05138524,  0.2642577 ],\n",
       "        [-0.06287797,  0.11879888,  0.21571907, -0.12177941,  0.26472834,\n",
       "         -0.27344108, -0.03586973,  0.24221304,  0.22699603,  0.10621497],\n",
       "        [-0.15120295, -0.05071463,  0.06739333,  0.06054544,  0.01582706,\n",
       "         -0.15294749, -0.01941246, -0.05318654, -0.16924167,  0.07633603],\n",
       "        [-0.02448297, -0.02360129, -0.06460242,  0.16995174, -0.04249455,\n",
       "         -0.22142535, -0.27774802, -0.23091014, -0.19337271,  0.11271378],\n",
       "        [-0.23642687, -0.12810355,  0.2662684 , -0.16864249, -0.06105332,\n",
       "          0.28378013,  0.09187829, -0.26044473, -0.24525727, -0.2696695 ],\n",
       "        [-0.01392221,  0.16466567, -0.03775677,  0.17221692,  0.2077688 ,\n",
       "          0.01816839, -0.28154275,  0.08395439,  0.21442267,  0.09942198],\n",
       "        [ 0.20662865, -0.15144157,  0.01060107, -0.13959798, -0.14700346,\n",
       "         -0.21840395,  0.26661065,  0.16746306, -0.05652362,  0.00295487],\n",
       "        [-0.00375575, -0.0646881 ,  0.15321898,  0.16802844,  0.08598679,\n",
       "          0.21494812,  0.03459322,  0.27665862,  0.12120947,  0.21462497],\n",
       "        [-0.21230568, -0.06017809,  0.24190077, -0.20825052, -0.1662329 ,\n",
       "          0.06148997,  0.13138205,  0.07980883, -0.26406682, -0.08914846],\n",
       "        [-0.21769783,  0.06508628, -0.17658626, -0.03090698, -0.13111056,\n",
       "          0.14834386,  0.19212559,  0.02830362, -0.04389456, -0.24209473],\n",
       "        [ 0.12799019, -0.00494388,  0.16541246, -0.0979718 ,  0.16517934,\n",
       "          0.23870525,  0.00292751,  0.26124963, -0.26397407, -0.20280597],\n",
       "        [ 0.220853  ,  0.25295517,  0.17893419,  0.15459517, -0.07533956,\n",
       "         -0.09959224,  0.04357126,  0.14055115,  0.17441449, -0.11841205],\n",
       "        [-0.05323867, -0.25380117,  0.24253204,  0.01880196, -0.02350515,\n",
       "         -0.22015542,  0.2393119 , -0.08201861, -0.20864816, -0.1524174 ],\n",
       "        [-0.13251267,  0.16537866,  0.2565113 ,  0.1564968 , -0.1211164 ,\n",
       "         -0.25446227,  0.22451106,  0.20099318, -0.27107447,  0.1524508 ]],\n",
       "       dtype=float32)>,\n",
       " <tf.Variable 'dense_1/bias:0' shape=(10,) dtype=float32, numpy=array([0., 0., 0., 0., 0., 0., 0., 0., 0., 0.], dtype=float32)>]"
      ]
     },
     "execution_count": 3,
     "metadata": {},
     "output_type": "execute_result"
    }
   ],
   "source": [
    "model.build(input_shape=(None, 3))\n",
    "model.weights"
   ]
  },
  {
   "cell_type": "code",
   "execution_count": 4,
   "metadata": {},
   "outputs": [
    {
     "name": "stdout",
     "output_type": "stream",
     "text": [
      "Model: \"sequential\"\n",
      "_________________________________________________________________\n",
      " Layer (type)                Output Shape              Param #   \n",
      "=================================================================\n",
      " dense (Dense)               (None, 64)                256       \n",
      "                                                                 \n",
      " dense_1 (Dense)             (None, 10)                650       \n",
      "                                                                 \n",
      "=================================================================\n",
      "Total params: 906 (3.54 KB)\n",
      "Trainable params: 906 (3.54 KB)\n",
      "Non-trainable params: 0 (0.00 Byte)\n",
      "_________________________________________________________________\n"
     ]
    }
   ],
   "source": [
    "model.summary()"
   ]
  },
  {
   "cell_type": "markdown",
   "metadata": {},
   "source": [
    "### Declaring names for the model and its layers"
   ]
  },
  {
   "cell_type": "code",
   "execution_count": 5,
   "metadata": {},
   "outputs": [],
   "source": [
    "model = keras.Sequential(name=\"the_example_model\")\n",
    "model.add(keras.layers.Dense(64, activation=keras.activations.relu, name=\"the_first_layer\"))\n",
    "model.add(keras.layers.Dense(10, activation=keras.activations.softmax, name=\"the_second_layer\"))"
   ]
  },
  {
   "cell_type": "code",
   "execution_count": 6,
   "metadata": {},
   "outputs": [],
   "source": [
    "model.build(input_shape=(None, 3))"
   ]
  },
  {
   "cell_type": "code",
   "execution_count": 7,
   "metadata": {},
   "outputs": [
    {
     "name": "stdout",
     "output_type": "stream",
     "text": [
      "Model: \"the_example_model\"\n",
      "_________________________________________________________________\n",
      " Layer (type)                Output Shape              Param #   \n",
      "=================================================================\n",
      " the_first_layer (Dense)     (None, 64)                256       \n",
      "                                                                 \n",
      " the_second_layer (Dense)    (None, 10)                650       \n",
      "                                                                 \n",
      "=================================================================\n",
      "Total params: 906 (3.54 KB)\n",
      "Trainable params: 906 (3.54 KB)\n",
      "Non-trainable params: 0 (0.00 Byte)\n",
      "_________________________________________________________________\n"
     ]
    }
   ],
   "source": [
    "model.summary()"
   ]
  },
  {
   "cell_type": "markdown",
   "metadata": {},
   "source": [
    "### Declaring the shape of the inputs of the model in advance"
   ]
  },
  {
   "cell_type": "code",
   "execution_count": 8,
   "metadata": {},
   "outputs": [],
   "source": [
    "model = keras.Sequential()\n",
    "model.add(keras.Input(shape=(3, ))) # the shape argument here represents the shape of each sample, not one batch\n",
    "model.add(keras.layers.Dense(64, keras.activations.relu))"
   ]
  },
  {
   "cell_type": "code",
   "execution_count": 9,
   "metadata": {},
   "outputs": [
    {
     "name": "stdout",
     "output_type": "stream",
     "text": [
      "Model: \"sequential_1\"\n",
      "_________________________________________________________________\n",
      " Layer (type)                Output Shape              Param #   \n",
      "=================================================================\n",
      " dense_2 (Dense)             (None, 64)                256       \n",
      "                                                                 \n",
      "=================================================================\n",
      "Total params: 256 (1.00 KB)\n",
      "Trainable params: 256 (1.00 KB)\n",
      "Non-trainable params: 0 (0.00 Byte)\n",
      "_________________________________________________________________\n"
     ]
    }
   ],
   "source": [
    "model.summary()"
   ]
  },
  {
   "cell_type": "code",
   "execution_count": 10,
   "metadata": {},
   "outputs": [],
   "source": [
    "model.add(keras.layers.Dense(10, activation=keras.activations.softmax))"
   ]
  },
  {
   "cell_type": "code",
   "execution_count": 11,
   "metadata": {},
   "outputs": [
    {
     "name": "stdout",
     "output_type": "stream",
     "text": [
      "Model: \"sequential_1\"\n",
      "_________________________________________________________________\n",
      " Layer (type)                Output Shape              Param #   \n",
      "=================================================================\n",
      " dense_2 (Dense)             (None, 64)                256       \n",
      "                                                                 \n",
      " dense_3 (Dense)             (None, 10)                650       \n",
      "                                                                 \n",
      "=================================================================\n",
      "Total params: 906 (3.54 KB)\n",
      "Trainable params: 906 (3.54 KB)\n",
      "Non-trainable params: 0 (0.00 Byte)\n",
      "_________________________________________________________________\n"
     ]
    }
   ],
   "source": [
    "model.summary() # Checking properties of the model without using the buold function"
   ]
  },
  {
   "cell_type": "markdown",
   "metadata": {},
   "source": [
    "# 7.2.2 The Functional API"
   ]
  },
  {
   "cell_type": "code",
   "execution_count": 12,
   "metadata": {},
   "outputs": [],
   "source": [
    "inputs = keras.Input(shape=(3, ), name=\"my_input\")\n",
    "features = keras.layers.Dense(64, activation=keras.activations.relu)(inputs)\n",
    "outputs = keras.layers.Dense(10, activation=keras.activations.relu)(features)\n",
    "model = keras.Model(inputs=inputs, outputs=outputs)"
   ]
  },
  {
   "cell_type": "markdown",
   "metadata": {},
   "source": [
    "#### Multi-input, multi-output models"
   ]
  },
  {
   "cell_type": "code",
   "execution_count": 13,
   "metadata": {},
   "outputs": [],
   "source": [
    "vocabulary_size = 10000\n",
    "num_tags = 100\n",
    "num_departments = 4\n",
    "\n",
    "title = keras.Input(shape=(vocabulary_size, ), name=\"title\")\n",
    "text_body = keras.Input(shape=(vocabulary_size, ), name=\"text_body\")\n",
    "tags = keras.Input(shape=(num_tags, ), name=\"tags\")\n",
    "\n",
    "features = keras.layers.Concatenate()([title, text_body, tags])\n",
    "features = keras.layers.Dense(64, activation=keras.activations.relu)(features)\n",
    "\n",
    "priority = keras.layers.Dense(1, activation=keras.activations.sigmoid, name=\"priority\")(features)\n",
    "department = keras.layers.Dense(num_departments, activation=keras.activations.softmax, name=\"department\")(features)\n",
    "\n",
    "model = keras.Model(inputs=[title, text_body, tags], outputs=[priority, department])"
   ]
  },
  {
   "cell_type": "markdown",
   "metadata": {},
   "source": [
    "#### Training a multi-input, multi-output model"
   ]
  },
  {
   "cell_type": "code",
   "execution_count": 14,
   "metadata": {},
   "outputs": [],
   "source": [
    "import numpy as np\n",
    "\n",
    "num_samples = 1280\n",
    "\n",
    "# Dummy input data\n",
    "title_data = np.random.randint(0, 2, size=(num_samples, vocabulary_size))\n",
    "text_body_data = np.random.randint(0, 2, size=(num_samples, vocabulary_size))\n",
    "tags_data = np.random.randint(0, 2, size=(num_samples, num_tags))\n",
    "\n",
    "# Dummy target data\n",
    "priority_data = np.random.random(size=(num_samples, 1))\n",
    "department_data = np.random.randint(0, 2, size=(num_samples, num_departments))"
   ]
  },
  {
   "cell_type": "code",
   "execution_count": 15,
   "metadata": {},
   "outputs": [],
   "source": [
    "model.compile(\n",
    "    optimizer=keras.optimizers.RMSprop(),\n",
    "    loss={\"priority\": keras.losses.mean_squared_error, \"department\": keras.losses.categorical_crossentropy},\n",
    "    metrics={\"priority\": [keras.metrics.mean_absolute_error], \"department\": [keras.metrics.Accuracy()]}\n",
    ")"
   ]
  },
  {
   "cell_type": "markdown",
   "metadata": {},
   "source": [
    "##### Writing the inputs, outputs etc. as a dictionary instead of a list gives flexibility to assign names for each data"
   ]
  },
  {
   "cell_type": "code",
   "execution_count": 16,
   "metadata": {},
   "outputs": [
    {
     "name": "stdout",
     "output_type": "stream",
     "text": [
      "40/40 [==============================] - 1s 17ms/step - loss: 19.9997 - priority_loss: 0.3211 - department_loss: 19.6785 - priority_mean_absolute_error: 0.4897 - department_accuracy: 0.0000e+00\n"
     ]
    },
    {
     "data": {
      "text/plain": [
       "<keras.src.callbacks.History at 0x7f5d706ac6d0>"
      ]
     },
     "execution_count": 16,
     "metadata": {},
     "output_type": "execute_result"
    }
   ],
   "source": [
    "model.fit(\n",
    "    {\"title\" : title_data, \"text_body\" : text_body_data, \"tags\" : tags_data},\n",
    "    {\"priority\" : priority_data, \"department\" : department_data},\n",
    "    epochs=1\n",
    ")"
   ]
  },
  {
   "cell_type": "code",
   "execution_count": 17,
   "metadata": {},
   "outputs": [
    {
     "name": "stdout",
     "output_type": "stream",
     "text": [
      "40/40 [==============================] - 0s 6ms/step - loss: 9.9777 - priority_loss: 0.3264 - department_loss: 9.6513 - priority_mean_absolute_error: 0.4954 - department_accuracy: 0.0000e+00\n"
     ]
    },
    {
     "data": {
      "text/plain": [
       "[9.97769546508789,\n",
       " 0.3263596296310425,\n",
       " 9.651335716247559,\n",
       " 0.4954450726509094,\n",
       " 0.0]"
      ]
     },
     "execution_count": 17,
     "metadata": {},
     "output_type": "execute_result"
    }
   ],
   "source": [
    "model.evaluate(\n",
    "    {\"title\" : title_data, \"text_body\" : text_body_data, \"tags\" : tags_data},\n",
    "    {\"priority\" : priority_data, \"department\" : department_data}\n",
    ")"
   ]
  },
  {
   "cell_type": "code",
   "execution_count": 18,
   "metadata": {},
   "outputs": [
    {
     "name": "stdout",
     "output_type": "stream",
     "text": [
      "40/40 [==============================] - 0s 5ms/step\n"
     ]
    }
   ],
   "source": [
    "priority_preds, department_preds = model.predict(\n",
    "    {\"title\": title_data, \"text_body\": text_body_data, \"tags\": tags_data}\n",
    ")"
   ]
  },
  {
   "cell_type": "code",
   "execution_count": 19,
   "metadata": {},
   "outputs": [
    {
     "data": {
      "image/png": "[encoded data removed]",
      "text/plain": [
       "<IPython.core.display.Image object>"
      ]
     },
     "execution_count": 19,
     "metadata": {},
     "output_type": "execute_result"
    }
   ],
   "source": [
    "keras.utils.plot_model(model, \"ticket_classifier.png\")"
   ]
  },
  {
   "cell_type": "code",
   "execution_count": 20,
   "metadata": {},
   "outputs": [
    {
     "data": {
      "image/png": "[encoded data removed]",
      "text/plain": [
       "<IPython.core.display.Image object>"
      ]
     },
     "execution_count": 20,
     "metadata": {},
     "output_type": "execute_result"
    }
   ],
   "source": [
    "keras.utils.plot_model(model, \"ticket_classifier.png\", show_shapes=True)"
   ]
  },
  {
   "cell_type": "code",
   "execution_count": 21,
   "metadata": {},
   "outputs": [
    {
     "data": {
      "text/plain": [
       "[<keras.src.engine.input_layer.InputLayer at 0x7f5d7069d750>,\n",
       " <keras.src.engine.input_layer.InputLayer at 0x7f5d7069db90>,\n",
       " <keras.src.engine.input_layer.InputLayer at 0x7f5d7069e110>,\n",
       " <keras.src.layers.merging.concatenate.Concatenate at 0x7f5d75728e50>,\n",
       " <keras.src.layers.core.dense.Dense at 0x7f5d76233c50>,\n",
       " <keras.src.layers.core.dense.Dense at 0x7f5d7444ac50>,\n",
       " <keras.src.layers.core.dense.Dense at 0x7f5d744b8950>]"
      ]
     },
     "execution_count": 21,
     "metadata": {},
     "output_type": "execute_result"
    }
   ],
   "source": [
    "model.layers"
   ]
  },
  {
   "cell_type": "code",
   "execution_count": 22,
   "metadata": {},
   "outputs": [
    {
     "data": {
      "text/plain": [
       "[<KerasTensor: shape=(None, 10000) dtype=float32 (created by layer 'title')>,\n",
       " <KerasTensor: shape=(None, 10000) dtype=float32 (created by layer 'text_body')>,\n",
       " <KerasTensor: shape=(None, 100) dtype=float32 (created by layer 'tags')>]"
      ]
     },
     "execution_count": 22,
     "metadata": {},
     "output_type": "execute_result"
    }
   ],
   "source": [
    "model.layers[3].input"
   ]
  },
  {
   "cell_type": "markdown",
   "metadata": {},
   "source": [
    "#### Creating a new model by reusing intermediate layer outputs"
   ]
  },
  {
   "cell_type": "code",
   "execution_count": 25,
   "metadata": {},
   "outputs": [],
   "source": [
    "features = model.layers[4].output\n",
    "difficulty = keras.layers.Dense(3, activation=keras.activations.softmax, name=\"difficulty\")(features)"
   ]
  },
  {
   "cell_type": "code",
   "execution_count": 26,
   "metadata": {},
   "outputs": [],
   "source": [
    "new_model = keras.Model(\n",
    "    inputs=[title, text_body, tags],\n",
    "    outputs=[priority, department, difficulty]\n",
    ")"
   ]
  },
  {
   "cell_type": "code",
   "execution_count": 27,
   "metadata": {},
   "outputs": [
    {
     "data": {
      "image/png": "[encoded data removed]",
      "text/plain": [
       "<IPython.core.display.Image object>"
      ]
     },
     "execution_count": 27,
     "metadata": {},
     "output_type": "execute_result"
    }
   ],
   "source": [
    "keras.utils.plot_model(new_model, \"updated_ticket_classifier.png\", show_shapes=True)"
   ]
  },
  {
   "cell_type": "markdown",
   "metadata": {},
   "source": [
    "## Rewriting the previous example as a subclass model"
   ]
  },
  {
   "cell_type": "markdown",
   "metadata": {},
   "source": [
    "#### A Simple Subclassed Model"
   ]
  },
  {
   "cell_type": "code",
   "execution_count": 28,
   "metadata": {},
   "outputs": [],
   "source": [
    "class CustomerTicketModel(keras.Model):\n",
    "\n",
    "    def __init__(self, num_departments):\n",
    "        super().__init__()\n",
    "        self.concat_layer = keras.layers.Concatenate()\n",
    "        self.mixing_layer = keras.layers.Dense(64, activation=keras.activations.relu)\n",
    "        self.priority_scorer = keras.layers.Dense(1, activation=keras.activations.sigmoid)\n",
    "        self.department_classifier = keras.layers.Dense(num_departments, activation=keras.activations.softmax)\n",
    "\n",
    "    def call(self, inputs):\n",
    "        title = inputs[\"title\"]\n",
    "        text_body = inputs[\"text_body\"]\n",
    "        tags = inputs[\"tags\"]\n",
    "\n",
    "        features = self.concat_layer([title, text_body, tags])\n",
    "        features = self.mixing_layer(features)\n",
    "\n",
    "        priority = self.priority_scorer(features)\n",
    "        department = self.department_classifier(features)\n",
    "\n",
    "        return priority, department"
   ]
  },
  {
   "cell_type": "code",
   "execution_count": 30,
   "metadata": {},
   "outputs": [
    {
     "name": "stderr",
     "output_type": "stream",
     "text": [
      "2023-11-13 20:13:36.445987: W tensorflow/tsl/framework/cpu_allocator_impl.cc:83] Allocation of 205824000 exceeds 10% of free system memory.\n"
     ]
    }
   ],
   "source": [
    "model = CustomerTicketModel(num_departments=4)\n",
    "\n",
    "priority, department = model({\"title\" : title_data, \"text_body\" : text_body_data, \"tags\" : tags_data})"
   ]
  },
  {
   "cell_type": "code",
   "execution_count": 50,
   "metadata": {},
   "outputs": [],
   "source": [
    "model.compile(\n",
    "    optimizer=keras.optimizers.RMSprop(),\n",
    "    loss=[keras.losses.mean_squared_error, keras.losses.categorical_crossentropy],\n",
    "    metrics=[[keras.metrics.mean_absolute_error], [keras.metrics.Accuracy()]]\n",
    ")"
   ]
  },
  {
   "cell_type": "code",
   "execution_count": 52,
   "metadata": {},
   "outputs": [
    {
     "name": "stdout",
     "output_type": "stream",
     "text": [
      "40/40 [==============================] - 1s 17ms/step - loss: 39.7374 - output_1_loss: 0.3355 - output_2_loss: 39.4019 - output_1_mean_absolute_error: 0.5046 - output_2_accuracy: 0.0000e+00\n"
     ]
    },
    {
     "data": {
      "text/plain": [
       "<keras.src.callbacks.History at 0x7f5d3be064d0>"
      ]
     },
     "execution_count": 52,
     "metadata": {},
     "output_type": "execute_result"
    }
   ],
   "source": [
    "model.fit(\n",
    "    {\n",
    "        \"title\" : title_data,\n",
    "        \"text_body\" : text_body_data,\n",
    "        \"tags\" : tags_data\n",
    "    },\n",
    "    [priority_data, department_data],\n",
    "    epochs=1\n",
    ")"
   ]
  },
  {
   "cell_type": "code",
   "execution_count": 54,
   "metadata": {},
   "outputs": [
    {
     "name": "stdout",
     "output_type": "stream",
     "text": [
      "40/40 [==============================] - 0s 6ms/step - loss: 29.3763 - output_1_loss: 0.3355 - output_2_loss: 29.0408 - output_1_mean_absolute_error: 0.5046 - output_2_accuracy: 0.0000e+00\n"
     ]
    },
    {
     "data": {
      "text/plain": [
       "[29.376312255859375,\n",
       " 0.3354696035385132,\n",
       " 29.040847778320312,\n",
       " 0.5045549869537354,\n",
       " 0.0]"
      ]
     },
     "execution_count": 54,
     "metadata": {},
     "output_type": "execute_result"
    }
   ],
   "source": [
    "model.evaluate(\n",
    "    {\n",
    "        \"title\" : title_data,\n",
    "        \"text_body\" : text_body_data,\n",
    "        \"tags\" : tags_data\n",
    "    },\n",
    "    [priority_data, department_data]\n",
    ")"
   ]
  },
  {
   "cell_type": "code",
   "execution_count": 55,
   "metadata": {},
   "outputs": [
    {
     "name": "stdout",
     "output_type": "stream",
     "text": [
      "40/40 [==============================] - 0s 6ms/step\n"
     ]
    }
   ],
   "source": [
    "priority_preds, department_preds = model.predict(\n",
    "    {\n",
    "        \"title\" : title_data,\n",
    "        \"text_body\" : text_body_data,\n",
    "        \"tags\" : tags_data\n",
    "    }\n",
    ")"
   ]
  },
  {
   "cell_type": "code",
   "execution_count": 56,
   "metadata": {},
   "outputs": [
    {
     "data": {
      "image/png": "[encoded data removed]",
      "text/plain": [
       "<IPython.core.display.Image object>"
      ]
     },
     "execution_count": 56,
     "metadata": {},
     "output_type": "execute_result"
    }
   ],
   "source": [
    "keras.utils.plot_model(model, \"ticket_classifier_with_subclass_model.png\")  # bruh"
   ]
  },
  {
   "cell_type": "markdown",
   "metadata": {},
   "source": [
    "#### Creating a functional model that includes a subclass model"
   ]
  },
  {
   "cell_type": "code",
   "execution_count": 61,
   "metadata": {},
   "outputs": [],
   "source": [
    "class Classifier(keras.Model):\n",
    "\n",
    "    def __init__(self, num_classes=2):\n",
    "        super().__init__()\n",
    "        if num_classes == 2:\n",
    "            num_units = 1\n",
    "            activation = keras.activations.sigmoid\n",
    "        else:\n",
    "            num_units = num_classes\n",
    "            activation = keras.activations.softmax\n",
    "        self.dense = keras.layers.Dense(num_units, activation=activation)\n",
    "    \n",
    "    def call(self, inputs):\n",
    "        return self.dense(inputs)"
   ]
  },
  {
   "cell_type": "code",
   "execution_count": 62,
   "metadata": {},
   "outputs": [],
   "source": [
    "inputs = keras.Input(shape=(3, ))\n",
    "features = keras.layers.Dense(64, activation=keras.activations.relu)(inputs)\n",
    "outputs = Classifier(num_classes=10)(features)\n",
    "model = keras.Model(inputs=inputs, outputs=outputs)"
   ]
  },
  {
   "cell_type": "markdown",
   "metadata": {},
   "source": [
    "#### Creating a subclass model that includes a functional model"
   ]
  },
  {
   "cell_type": "code",
   "execution_count": 63,
   "metadata": {},
   "outputs": [],
   "source": [
    "inputs = keras.Input(shape=(64, ))\n",
    "outputs = keras.layers.Dense(1, activation=keras.activations.sigmoid)(inputs)\n",
    "binary_classifier = keras.Model(inputs=inputs, outputs=outputs)"
   ]
  },
  {
   "cell_type": "code",
   "execution_count": 64,
   "metadata": {},
   "outputs": [],
   "source": [
    "class MyModel(keras.Model):\n",
    "\n",
    "    def __init__(self, num_classes=2):\n",
    "        super().__init__()\n",
    "        self.dense = keras.layers.Dense(64, activation=keras.activations.relu)\n",
    "        self.classifier = binary_classifier\n",
    "\n",
    "    def call(self, inputs):\n",
    "        features = self.dense(inputs)\n",
    "        return self.classifier"
   ]
  },
  {
   "cell_type": "code",
   "execution_count": 65,
   "metadata": {},
   "outputs": [],
   "source": [
    "model = MyModel()"
   ]
  },
  {
   "cell_type": "code",
   "execution_count": null,
   "metadata": {},
   "outputs": [],
   "source": []
  }
 ],
 "metadata": {
  "kernelspec": {
   "display_name": "dlwp",
   "language": "python",
   "name": "python3"
  },
  "language_info": {
   "codemirror_mode": {
    "name": "ipython",
    "version": 3
   },
   "file_extension": ".py",
   "mimetype": "text/x-python",
   "name": "python",
   "nbconvert_exporter": "python",
   "pygments_lexer": "ipython3",
   "version": "3.11.5"
  }
 },
 "nbformat": 4,
 "nbformat_minor": 2
}
