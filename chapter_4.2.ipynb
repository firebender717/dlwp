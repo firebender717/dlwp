{
 "cells": [
  {
   "cell_type": "code",
   "execution_count": 60,
   "metadata": {},
   "outputs": [],
   "source": [
    "from tensorflow import keras\n",
    "from tensorflow.keras.datasets import reuters\n",
    "\n",
    "(train_data, train_labels), (test_data, test_labels) = reuters.load_data(num_words=10000)"
   ]
  },
  {
   "cell_type": "code",
   "execution_count": 61,
   "metadata": {},
   "outputs": [],
   "source": [
    "word_index = reuters.get_word_index()\n",
    "reversed_word_index = dict([(value, key) for (key, value) in word_index.items()])\n",
    "decoded_newswire = \"\".join([reversed_word_index.get(i-3, \"?\") for i in train_data[0]])"
   ]
  },
  {
   "cell_type": "code",
   "execution_count": 62,
   "metadata": {},
   "outputs": [],
   "source": [
    "import numpy as np\n",
    "\n",
    "def vectorize_sequences(sequences, dimension=10000):\n",
    "    results = np.zeros((len(sequences), dimension))\n",
    "    for i, sequence in enumerate(sequences):\n",
    "        for j in sequence:\n",
    "            results[i, j] = 1.\n",
    "    return results"
   ]
  },
  {
   "cell_type": "code",
   "execution_count": 63,
   "metadata": {},
   "outputs": [],
   "source": [
    "x_train = vectorize_sequences(train_data)\n",
    "x_test = vectorize_sequences(test_data)"
   ]
  },
  {
   "cell_type": "code",
   "execution_count": 64,
   "metadata": {},
   "outputs": [],
   "source": [
    "def to_one_hot(labels, dimension=46):\n",
    "    results = np.zeros((len(labels), dimension))\n",
    "    for i, label in enumerate(labels):\n",
    "        results[i, label] = 1.\n",
    "    return results"
   ]
  },
  {
   "cell_type": "code",
   "execution_count": 65,
   "metadata": {},
   "outputs": [],
   "source": [
    "y_train = to_one_hot(train_labels)\n",
    "y_test = to_one_hot(test_labels)"
   ]
  },
  {
   "cell_type": "code",
   "execution_count": 66,
   "metadata": {},
   "outputs": [],
   "source": [
    "from tensorflow.keras.utils import to_categorical\n",
    "\n",
    "y_train = to_categorical(train_labels)\n",
    "y_test = to_categorical(test_labels)"
   ]
  },
  {
   "cell_type": "code",
   "execution_count": 67,
   "metadata": {},
   "outputs": [],
   "source": [
    "model = keras.Sequential([\n",
    "    keras.layers.Dense(64, activation=\"relu\"),\n",
    "    keras.layers.Dense(64, activation=\"relu\"),\n",
    "    keras.layers.Dense(46, activation=\"softmax\")\n",
    "])"
   ]
  },
  {
   "cell_type": "code",
   "execution_count": 68,
   "metadata": {},
   "outputs": [],
   "source": [
    "model.compile(\n",
    "    optimizer=\"rmsprop\",\n",
    "    loss=\"categorical_crossentropy\",\n",
    "    metrics=[\"accuracy\"]\n",
    ")"
   ]
  },
  {
   "cell_type": "code",
   "execution_count": 69,
   "metadata": {},
   "outputs": [],
   "source": [
    "x_val = x_train[:1000]\n",
    "partial_x_train = x_train[1000:]\n",
    "y_val = y_train[:1000]\n",
    "partial_y_train = y_train[1000:]"
   ]
  },
  {
   "cell_type": "code",
   "execution_count": 70,
   "metadata": {},
   "outputs": [
    {
     "name": "stdout",
     "output_type": "stream",
     "text": [
      "Epoch 1/20\n"
     ]
    },
    {
     "name": "stderr",
     "output_type": "stream",
     "text": [
      "2023-10-23 19:39:40.134518: W tensorflow/tsl/framework/cpu_allocator_impl.cc:83] Allocation of 319280000 exceeds 10% of free system memory.\n"
     ]
    },
    {
     "name": "stdout",
     "output_type": "stream",
     "text": [
      "16/16 [==============================] - 1s 39ms/step - loss: 2.8934 - accuracy: 0.4737 - val_loss: 1.9571 - val_accuracy: 0.6170\n",
      "Epoch 2/20\n",
      "16/16 [==============================] - 0s 27ms/step - loss: 1.6044 - accuracy: 0.6793 - val_loss: 1.4049 - val_accuracy: 0.6920\n",
      "Epoch 3/20\n",
      "16/16 [==============================] - 0s 25ms/step - loss: 1.1874 - accuracy: 0.7443 - val_loss: 1.2136 - val_accuracy: 0.7550\n",
      "Epoch 4/20\n",
      "16/16 [==============================] - 0s 26ms/step - loss: 0.9543 - accuracy: 0.7979 - val_loss: 1.0753 - val_accuracy: 0.7660\n",
      "Epoch 5/20\n",
      "16/16 [==============================] - 0s 26ms/step - loss: 0.7786 - accuracy: 0.8368 - val_loss: 1.0061 - val_accuracy: 0.7850\n",
      "Epoch 6/20\n",
      "16/16 [==============================] - 0s 26ms/step - loss: 0.6489 - accuracy: 0.8639 - val_loss: 0.9501 - val_accuracy: 0.8010\n",
      "Epoch 7/20\n",
      "16/16 [==============================] - 0s 25ms/step - loss: 0.5385 - accuracy: 0.8871 - val_loss: 0.9032 - val_accuracy: 0.8070\n",
      "Epoch 8/20\n",
      "16/16 [==============================] - 0s 26ms/step - loss: 0.4517 - accuracy: 0.9049 - val_loss: 0.9109 - val_accuracy: 0.8080\n",
      "Epoch 9/20\n",
      "16/16 [==============================] - 0s 26ms/step - loss: 0.3820 - accuracy: 0.9183 - val_loss: 0.8656 - val_accuracy: 0.8110\n",
      "Epoch 10/20\n",
      "16/16 [==============================] - 0s 26ms/step - loss: 0.3264 - accuracy: 0.9312 - val_loss: 0.8983 - val_accuracy: 0.8090\n",
      "Epoch 11/20\n",
      "16/16 [==============================] - 0s 26ms/step - loss: 0.2800 - accuracy: 0.9386 - val_loss: 0.8764 - val_accuracy: 0.8250\n",
      "Epoch 12/20\n",
      "16/16 [==============================] - 0s 26ms/step - loss: 0.2470 - accuracy: 0.9426 - val_loss: 0.8781 - val_accuracy: 0.8210\n",
      "Epoch 13/20\n",
      "16/16 [==============================] - 0s 26ms/step - loss: 0.2230 - accuracy: 0.9473 - val_loss: 0.8672 - val_accuracy: 0.8240\n",
      "Epoch 14/20\n",
      "16/16 [==============================] - 0s 25ms/step - loss: 0.1982 - accuracy: 0.9503 - val_loss: 0.8807 - val_accuracy: 0.8210\n",
      "Epoch 15/20\n",
      "16/16 [==============================] - 0s 25ms/step - loss: 0.1788 - accuracy: 0.9518 - val_loss: 0.9087 - val_accuracy: 0.8160\n",
      "Epoch 16/20\n",
      "16/16 [==============================] - 0s 25ms/step - loss: 0.1639 - accuracy: 0.9557 - val_loss: 0.9046 - val_accuracy: 0.8180\n",
      "Epoch 17/20\n",
      "16/16 [==============================] - 0s 25ms/step - loss: 0.1536 - accuracy: 0.9568 - val_loss: 0.9200 - val_accuracy: 0.8150\n",
      "Epoch 18/20\n",
      "16/16 [==============================] - 0s 26ms/step - loss: 0.1418 - accuracy: 0.9562 - val_loss: 0.9251 - val_accuracy: 0.8130\n",
      "Epoch 19/20\n",
      "16/16 [==============================] - 0s 25ms/step - loss: 0.1448 - accuracy: 0.9553 - val_loss: 0.9116 - val_accuracy: 0.8300\n",
      "Epoch 20/20\n",
      "16/16 [==============================] - 0s 23ms/step - loss: 0.1324 - accuracy: 0.9607 - val_loss: 0.9262 - val_accuracy: 0.8240\n"
     ]
    }
   ],
   "source": [
    "history = model.fit(\n",
    "    partial_x_train,\n",
    "    partial_y_train,\n",
    "    epochs=20,\n",
    "    batch_size=512,\n",
    "    validation_data=(x_val, y_val)\n",
    ")"
   ]
  },
  {
   "cell_type": "code",
   "execution_count": 71,
   "metadata": {},
   "outputs": [
    {
     "data": {
      "image/png": "[encoded data removed]",
      "text/plain": [
       "<Figure size 640x480 with 1 Axes>"
      ]
     },
     "metadata": {},
     "output_type": "display_data"
    }
   ],
   "source": [
    "import matplotlib.pyplot as plt\n",
    "history_dict = history.history\n",
    "loss_values = history_dict[\"loss\"]\n",
    "val_loss_values = history_dict[\"val_loss\"]\n",
    "epochs = range(1, len(loss_values) + 1)\n",
    "plt.plot(epochs, loss_values, \"bo\", label=\"Training loss\")\n",
    "plt.plot(epochs, val_loss_values, \"b\", label=\"Validation loss\")\n",
    "plt.title(\"Training and validation loss\")\n",
    "plt.xlabel(\"Epochs\")\n",
    "plt.ylabel(\"Loss\")\n",
    "plt.legend()\n",
    "plt.grid()\n",
    "plt.show()"
   ]
  },
  {
   "cell_type": "code",
   "execution_count": 72,
   "metadata": {},
   "outputs": [
    {
     "data": {
      "image/png": "[encoded data removed]",
      "text/plain": [
       "<Figure size 640x480 with 1 Axes>"
      ]
     },
     "metadata": {},
     "output_type": "display_data"
    }
   ],
   "source": [
    "plt.clf()\n",
    "acc = history_dict[\"accuracy\"]\n",
    "val_acc = history_dict[\"val_accuracy\"]\n",
    "plt.plot(epochs, acc, \"bo\", label=\"Training accuracy\")\n",
    "plt.plot(epochs, val_acc, \"b\", label=\"Validation accuracy\")\n",
    "plt.title(\"Training and validation accuracy\")\n",
    "plt.xlabel(\"Epochs\")\n",
    "plt.ylabel(\"Accuracy\")\n",
    "plt.legend()\n",
    "plt.grid()\n",
    "plt.show()"
   ]
  },
  {
   "cell_type": "code",
   "execution_count": 73,
   "metadata": {},
   "outputs": [
    {
     "name": "stdout",
     "output_type": "stream",
     "text": [
      "71/71 [==============================] - 0s 2ms/step\n"
     ]
    }
   ],
   "source": [
    "predictions  = model.predict(x_test)"
   ]
  },
  {
   "cell_type": "code",
   "execution_count": 74,
   "metadata": {},
   "outputs": [
    {
     "data": {
      "text/plain": [
       "(46,)"
      ]
     },
     "execution_count": 74,
     "metadata": {},
     "output_type": "execute_result"
    }
   ],
   "source": [
    "predictions[0].shape"
   ]
  },
  {
   "cell_type": "code",
   "execution_count": 75,
   "metadata": {},
   "outputs": [
    {
     "data": {
      "text/plain": [
       "0.9999998"
      ]
     },
     "execution_count": 75,
     "metadata": {},
     "output_type": "execute_result"
    }
   ],
   "source": [
    "np.sum(predictions[0])"
   ]
  },
  {
   "cell_type": "code",
   "execution_count": 76,
   "metadata": {},
   "outputs": [
    {
     "data": {
      "text/plain": [
       "3"
      ]
     },
     "execution_count": 76,
     "metadata": {},
     "output_type": "execute_result"
    }
   ],
   "source": [
    "np.argmax(predictions[0])"
   ]
  },
  {
   "cell_type": "code",
   "execution_count": 77,
   "metadata": {},
   "outputs": [],
   "source": [
    "del y_train\n",
    "del y_test\n",
    "\n",
    "y_train = np.array(train_labels)\n",
    "y_test = np.array(test_labels)"
   ]
  },
  {
   "cell_type": "code",
   "execution_count": 78,
   "metadata": {},
   "outputs": [],
   "source": [
    "model.compile(\n",
    "    optimizer=\"rmsprop\",\n",
    "    loss=\"sparse_categorical_crossentropy\",\n",
    "    metrics=[\"accuracy\"]\n",
    ")"
   ]
  },
  {
   "cell_type": "code",
   "execution_count": 79,
   "metadata": {},
   "outputs": [
    {
     "name": "stdout",
     "output_type": "stream",
     "text": [
      "Epoch 1/20\n",
      "63/63 [==============================] - 1s 16ms/step - loss: 1.8008 - accuracy: 0.6069 - val_loss: 1.2611 - val_accuracy: 0.7210\n",
      "Epoch 2/20\n",
      "63/63 [==============================] - 1s 13ms/step - loss: 0.9964 - accuracy: 0.7795 - val_loss: 1.0205 - val_accuracy: 0.7880\n",
      "Epoch 3/20\n",
      "63/63 [==============================] - 1s 13ms/step - loss: 0.6760 - accuracy: 0.8530 - val_loss: 0.9721 - val_accuracy: 0.7970\n",
      "Epoch 4/20\n",
      "63/63 [==============================] - 1s 13ms/step - loss: 0.4633 - accuracy: 0.9032 - val_loss: 0.8628 - val_accuracy: 0.8230\n",
      "Epoch 5/20\n",
      "63/63 [==============================] - 1s 13ms/step - loss: 0.3346 - accuracy: 0.9277 - val_loss: 0.8746 - val_accuracy: 0.8140\n",
      "Epoch 6/20\n",
      "63/63 [==============================] - 1s 13ms/step - loss: 0.2581 - accuracy: 0.9411 - val_loss: 0.8979 - val_accuracy: 0.8150\n",
      "Epoch 7/20\n",
      "63/63 [==============================] - 1s 13ms/step - loss: 0.2125 - accuracy: 0.9493 - val_loss: 0.9465 - val_accuracy: 0.7990\n",
      "Epoch 8/20\n",
      "63/63 [==============================] - 1s 13ms/step - loss: 0.1862 - accuracy: 0.9516 - val_loss: 0.9320 - val_accuracy: 0.8120\n",
      "Epoch 9/20\n",
      "63/63 [==============================] - 1s 13ms/step - loss: 0.1630 - accuracy: 0.9544 - val_loss: 1.0961 - val_accuracy: 0.7870\n",
      "Epoch 10/20\n",
      "63/63 [==============================] - 1s 13ms/step - loss: 0.1567 - accuracy: 0.9515 - val_loss: 0.9958 - val_accuracy: 0.8110\n",
      "Epoch 11/20\n",
      "63/63 [==============================] - 1s 14ms/step - loss: 0.1477 - accuracy: 0.9541 - val_loss: 0.9660 - val_accuracy: 0.8240\n",
      "Epoch 12/20\n",
      "63/63 [==============================] - 1s 13ms/step - loss: 0.1387 - accuracy: 0.9560 - val_loss: 1.0698 - val_accuracy: 0.7950\n",
      "Epoch 13/20\n",
      "63/63 [==============================] - 1s 13ms/step - loss: 0.1316 - accuracy: 0.9567 - val_loss: 1.0169 - val_accuracy: 0.8140\n",
      "Epoch 14/20\n",
      "63/63 [==============================] - 1s 13ms/step - loss: 0.1343 - accuracy: 0.9550 - val_loss: 1.0179 - val_accuracy: 0.8080\n",
      "Epoch 15/20\n",
      "63/63 [==============================] - 1s 14ms/step - loss: 0.1288 - accuracy: 0.9550 - val_loss: 1.0161 - val_accuracy: 0.8100\n",
      "Epoch 16/20\n",
      "63/63 [==============================] - 1s 13ms/step - loss: 0.1234 - accuracy: 0.9577 - val_loss: 1.0116 - val_accuracy: 0.8090\n",
      "Epoch 17/20\n",
      "63/63 [==============================] - 1s 13ms/step - loss: 0.1216 - accuracy: 0.9550 - val_loss: 1.0379 - val_accuracy: 0.8150\n",
      "Epoch 18/20\n",
      "63/63 [==============================] - 1s 13ms/step - loss: 0.1211 - accuracy: 0.9557 - val_loss: 1.0111 - val_accuracy: 0.8060\n",
      "Epoch 19/20\n",
      "63/63 [==============================] - 1s 13ms/step - loss: 0.1153 - accuracy: 0.9568 - val_loss: 1.0176 - val_accuracy: 0.8070\n",
      "Epoch 20/20\n",
      "63/63 [==============================] - 1s 14ms/step - loss: 0.1157 - accuracy: 0.9559 - val_loss: 1.0320 - val_accuracy: 0.8160\n"
     ]
    },
    {
     "data": {
      "text/plain": [
       "<keras.src.callbacks.History at 0x7f380bab1790>"
      ]
     },
     "execution_count": 79,
     "metadata": {},
     "output_type": "execute_result"
    }
   ],
   "source": [
    "del model\n",
    "\n",
    "model = keras.Sequential([\n",
    "    keras.layers.Dense(64, activation=\"relu\"),\n",
    "    keras.layers.Dense(128, activation=\"relu\"),\n",
    "    keras.layers.Dense(46, activation=\"softmax\")\n",
    "])\n",
    "\n",
    "model.compile(\n",
    "    optimizer=\"rmsprop\",\n",
    "    loss=\"categorical_crossentropy\",\n",
    "    metrics=[\"accuracy\"]\n",
    ")\n",
    "\n",
    "model.fit(\n",
    "    partial_x_train,\n",
    "    partial_y_train,\n",
    "    epochs=20,\n",
    "    batch_size=128,\n",
    "    validation_data=(x_val, y_val)\n",
    ")"
   ]
  },
  {
   "cell_type": "code",
   "execution_count": null,
   "metadata": {},
   "outputs": [],
   "source": []
  }
 ],
 "metadata": {
  "kernelspec": {
   "display_name": "dlwp",
   "language": "python",
   "name": "python3"
  },
  "language_info": {
   "codemirror_mode": {
    "name": "ipython",
    "version": 3
   },
   "file_extension": ".py",
   "mimetype": "text/x-python",
   "name": "python",
   "nbconvert_exporter": "python",
   "pygments_lexer": "ipython3",
   "version": "3.11.5"
  }
 },
 "nbformat": 4,
 "nbformat_minor": 2
}
